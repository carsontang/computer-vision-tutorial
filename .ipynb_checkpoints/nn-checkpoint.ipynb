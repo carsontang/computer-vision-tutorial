{
 "cells": [
  {
   "cell_type": "markdown",
   "metadata": {},
   "source": [
    "# Nearest Neighbor Classifier"
   ]
  },
  {
   "cell_type": "code",
   "execution_count": 25,
   "metadata": {
    "collapsed": false
   },
   "outputs": [
    {
     "name": "stdout",
     "output_type": "stream",
     "text": [
      "The autoreload extension is already loaded. To reload it, use:\n",
      "  %reload_ext autoreload\n",
      "Training data shape:  (50000, 32, 32, 3)\n",
      "Training labels shape:  (50000,)\n",
      "Test data shape:  (10000, 32, 32, 3)\n",
      "Test labels shape:  (10000,)\n",
      "Test data shape:  (1, 32, 32, 3)\n",
      "(50000, -1)\n",
      "(50000, 3072) (1, 3072)\n",
      "[[ -99.  -50.   14. ...,  102.   25.  -38.]\n",
      " [  -4.   65.  138. ...,  122.   66.   34.]\n",
      " [  97.  143.  206. ...,   59.   19.  -26.]\n",
      " ..., \n",
      " [-123.   66.  186. ...,   -9.  -36.  -60.]\n",
      " [  31.   99.  191. ...,  174.  123.   61.]\n",
      " [  71.  117.  190. ...,  142.   96.   51.]]\n",
      "[ 158.  112.   49. ...,   21.   67.  110.]\n",
      "comparing  0\n",
      "Elapsed seconds:  1.50214099884\n",
      "comparing  0\n",
      "Elapsed seconds:  1.62523913383\n",
      "done\n"
     ]
    }
   ],
   "source": [
    "import numpy as np\n",
    "import time\n",
    "from data_utils import load_CIFAR10\n",
    "import matplotlib.pyplot as plt\n",
    "%load_ext autoreload\n",
    "%autoreload 2\n",
    "\n",
    "cifar10_dir = 'cifar-10-batches-py'\n",
    "X_train, y_train, X_test, y_test = load_CIFAR10(cifar10_dir)\n",
    "print 'Training data shape: ', X_train.shape\n",
    "print 'Training labels shape: ', y_train.shape\n",
    "print 'Test data shape: ', X_test.shape\n",
    "print 'Test labels shape: ', y_test.shape\n",
    "\n",
    "# Subsample the data for more efficient code execution in this exercise\n",
    "num_training = 50000\n",
    "mask = range(num_training)\n",
    "X_train = X_train[mask]\n",
    "y_train = y_train[mask]\n",
    "\n",
    "num_test = 1\n",
    "mask = range(num_test)\n",
    "X_test = X_test[mask]\n",
    "y_test = y_test[mask]\n",
    "print 'Test data shape: ', X_test.shape\n",
    "\n",
    "# Reshape the image data into rows\n",
    "print (X_train.shape[0], -1)\n",
    "X_train = np.reshape(X_train, (X_train.shape[0], -1))\n",
    "X_test = np.reshape(X_test, (X_test.shape[0], -1))\n",
    "print X_train.shape, X_test.shape\n",
    "\n",
    "from nearest_neighbor import NearestNeighbor\n",
    "print X_train - X_test[0, :]\n",
    "print X_test[0, :]\n",
    "nn = NearestNeighbor()\n",
    "nn.train(X_train, y_train)\n",
    "start_time = time.time()\n",
    "Y_pred_euclidean = nn.predict_euclidean(X_test)\n",
    "elapsed_seconds = time.time() - start_time\n",
    "print \"Elapsed seconds: \", elapsed_seconds\n",
    "start_time = time.time()\n",
    "Y_pred_manhattan = nn.predict_manhattan(X_test)\n",
    "elapsed_seconds = time.time() - start_time\n",
    "print \"Elapsed seconds: \", elapsed_seconds\n",
    "print 'done'"
   ]
  },
  {
   "cell_type": "code",
   "execution_count": 20,
   "metadata": {
    "collapsed": false
   },
   "outputs": [
    {
     "name": "stdout",
     "output_type": "stream",
     "text": [
      "[4]\n",
      "[3]\n",
      "0.0\n",
      "1\n"
     ]
    },
    {
     "name": "stderr",
     "output_type": "stream",
     "text": [
      "[autoreload of nearest_neighbor failed: Traceback (most recent call last):\n",
      "  File \"/Users/ctang/anaconda2/lib/python2.7/site-packages/IPython/extensions/autoreload.py\", line 247, in check\n",
      "    superreload(m, reload, self.old_objects)\n",
      "NameError: name 'NearestNeighbor' is not defined\n",
      "]\n"
     ]
    }
   ],
   "source": [
    "def calculate_accuracy(Ypred, y_test):\n",
    "    return len(np.nonzero(Y_pred == y_test)[0])*1.0/len(Y_pred)\n",
    "\n"
   ]
  },
  {
   "cell_type": "code",
   "execution_count": null,
   "metadata": {
    "collapsed": true
   },
   "outputs": [],
   "source": []
  }
 ],
 "metadata": {
  "kernelspec": {
   "display_name": "Python 2",
   "language": "python",
   "name": "python2"
  },
  "language_info": {
   "codemirror_mode": {
    "name": "ipython",
    "version": 2
   },
   "file_extension": ".py",
   "mimetype": "text/x-python",
   "name": "python",
   "nbconvert_exporter": "python",
   "pygments_lexer": "ipython2",
   "version": "2.7.11"
  }
 },
 "nbformat": 4,
 "nbformat_minor": 0
}
