{
 "cells": [
  {
   "cell_type": "markdown",
   "metadata": {},
   "source": [
    "# Nearest Neighbor Classifier"
   ]
  },
  {
   "cell_type": "code",
   "execution_count": 18,
   "metadata": {
    "collapsed": false
   },
   "outputs": [
    {
     "name": "stdout",
     "output_type": "stream",
     "text": [
      "The autoreload extension is already loaded. To reload it, use:\n",
      "  %reload_ext autoreload\n",
      "Training data shape:  (50000, 32, 32, 3)\n",
      "Training labels shape:  (50000,)\n",
      "Test data shape:  (10000, 32, 32, 3)\n",
      "Test labels shape:  (10000,)\n",
      "Test data shape:  (50, 32, 32, 3)\n",
      "(5000, -1)\n",
      "(5000, 3072) (50, 3072)\n",
      "[[ -99.  -50.   14. ...,  102.   25.  -38.]\n",
      " [  -4.   65.  138. ...,  122.   66.   34.]\n",
      " [  97.  143.  206. ...,   59.   19.  -26.]\n",
      " ..., \n",
      " [   9.   51.   96. ...,   21.   11.  -26.]\n",
      " [  -4.   40.   76. ...,  173.  180.    4.]\n",
      " [-113.  -80.  -28. ...,  135.   75.  -10.]]\n",
      "[ 158.  112.   49. ...,   21.   67.  110.]\n",
      "done\n"
     ]
    }
   ],
   "source": [
    "import numpy as np\n",
    "from data_utils import load_CIFAR10\n",
    "import matplotlib.pyplot as plt\n",
    "%load_ext autoreload\n",
    "%autoreload 2\n",
    "\n",
    "cifar10_dir = 'cifar-10-batches-py'\n",
    "X_train, y_train, X_test, y_test = load_CIFAR10(cifar10_dir)\n",
    "print 'Training data shape: ', X_train.shape\n",
    "print 'Training labels shape: ', y_train.shape\n",
    "print 'Test data shape: ', X_test.shape\n",
    "print 'Test labels shape: ', y_test.shape\n",
    "\n",
    "# Subsample the data for more efficient code execution in this exercise\n",
    "num_training = 5000\n",
    "mask = range(num_training)\n",
    "X_train = X_train[mask]\n",
    "y_train = y_train[mask]\n",
    "\n",
    "num_test = 50\n",
    "mask = range(num_test)\n",
    "X_test = X_test[mask]\n",
    "y_test = y_test[mask]\n",
    "print 'Test data shape: ', X_test.shape\n",
    "\n",
    "# Reshape the image data into rows\n",
    "print (X_train.shape[0], -1)\n",
    "X_train = np.reshape(X_train, (X_train.shape[0], -1))\n",
    "X_test = np.reshape(X_test, (X_test.shape[0], -1))\n",
    "print X_train.shape, X_test.shape\n",
    "\n",
    "from nearest_neighbor import NearestNeighbor\n",
    "print X_train - X_test[0, :]\n",
    "print X_test[0, :]\n",
    "nn = NearestNeighbor()\n",
    "nn.train(X_train, y_train)\n",
    "Y_pred = nn.predict(X_test)\n",
    "print 'done'"
   ]
  },
  {
   "cell_type": "code",
   "execution_count": 19,
   "metadata": {
    "collapsed": false
   },
   "outputs": [
    {
     "name": "stdout",
     "output_type": "stream",
     "text": [
      "[4 9 8 8 4 4 3 2 8 8 0 8 4 7 8 2 5 3 1 3 2 0 0 4 2 5 2 7 2 6 6 2 4 6 9 1 2\n",
      " 0 4 5 8 6 2 4 8 0 5 0 4 2]\n",
      "[3 8 8 0 6 6 1 6 3 1 0 9 5 7 9 8 5 7 8 6 7 0 4 9 5 2 4 0 9 6 6 5 4 5 9 2 4\n",
      " 1 9 5 4 6 5 6 0 9 3 9 7 6]\n",
      "[ 2 10 13 16 21 29 30 32 34 39 41]\n"
     ]
    }
   ],
   "source": [
    "print Y_pred\n",
    "print y_test\n",
    "print np.nonzero(Y_pred == y_test)[0]"
   ]
  },
  {
   "cell_type": "code",
   "execution_count": null,
   "metadata": {
    "collapsed": true
   },
   "outputs": [],
   "source": []
  }
 ],
 "metadata": {
  "kernelspec": {
   "display_name": "Python 2",
   "language": "python",
   "name": "python2"
  },
  "language_info": {
   "codemirror_mode": {
    "name": "ipython",
    "version": 2
   },
   "file_extension": ".py",
   "mimetype": "text/x-python",
   "name": "python",
   "nbconvert_exporter": "python",
   "pygments_lexer": "ipython2",
   "version": "2.7.11"
  }
 },
 "nbformat": 4,
 "nbformat_minor": 0
}
